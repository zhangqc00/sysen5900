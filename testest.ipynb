{
 "cells": [
  {
   "cell_type": "code",
   "execution_count": 8,
   "metadata": {},
   "outputs": [
    {
     "name": "stdout",
     "output_type": "stream",
     "text": [
      "        x       y\n",
      "0  0.1678  0.6097\n",
      "1  0.1743  0.6100\n",
      "2  0.3867 -0.6372\n",
      "3  0.4555 -1.4296\n",
      "4  0.5976 -2.9039\n",
      "5  0.6332 -3.1160\n",
      "6  0.8128 -2.4052\n",
      "7  0.8401 -2.0088\n",
      "8  0.9805  0.9767\n",
      "9  0.9904  1.2236\n"
     ]
    }
   ],
   "source": [
    "import ssl\n",
    "ssl._create_default_https_context = ssl._create_unverified_context\n",
    "import pandas as pd # data processing, CSV file I/O (e.g. pd.read_csv)\n",
    "da = pd.read_csv('https://raw.githubusercontent.com/zhangqc00/6880Data/main/HW1Q1data.csv')\n",
    "print(da.head(10))\n",
    "\n"
   ]
  }
 ],
 "metadata": {
  "interpreter": {
   "hash": "aee8b7b246df8f9039afb4144a1f6fd8d2ca17a180786b69acc140d282b71a49"
  },
  "kernelspec": {
   "display_name": "Python 3.10.1 64-bit",
   "language": "python",
   "name": "python3"
  },
  "language_info": {
   "codemirror_mode": {
    "name": "ipython",
    "version": 3
   },
   "file_extension": ".py",
   "mimetype": "text/x-python",
   "name": "python",
   "nbconvert_exporter": "python",
   "pygments_lexer": "ipython3",
   "version": "3.10.1"
  },
  "orig_nbformat": 4
 },
 "nbformat": 4,
 "nbformat_minor": 2
}
